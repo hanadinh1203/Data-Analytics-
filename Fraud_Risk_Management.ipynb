{
  "nbformat": 4,
  "nbformat_minor": 0,
  "metadata": {
    "colab": {
      "provenance": [],
      "authorship_tag": "ABX9TyOc7fpPHrhZlO4NnETG1ro0",
      "include_colab_link": true
    },
    "kernelspec": {
      "name": "python3",
      "display_name": "Python 3"
    },
    "language_info": {
      "name": "python"
    }
  },
  "cells": [
    {
      "cell_type": "markdown",
      "metadata": {
        "id": "view-in-github",
        "colab_type": "text"
      },
      "source": [
        "<a href=\"https://colab.research.google.com/github/hanadinh1203/Data-Analytics-/blob/main/Fraud_Risk_Management.ipynb\" target=\"_parent\"><img src=\"https://colab.research.google.com/assets/colab-badge.svg\" alt=\"Open In Colab\"/></a>"
      ]
    },
    {
      "cell_type": "code",
      "execution_count": 1,
      "metadata": {
        "id": "nY96lu_K_wuF"
      },
      "outputs": [],
      "source": [
        "import numpy as np\n",
        "import pandas as pd\n",
        "from sklearn.linear_model import LinearRegression\n",
        "from sklearn.metrics import r2_score\n",
        "from sklearn.metrics import mean_absolute_error"
      ]
    },
    {
      "cell_type": "code",
      "source": [
        "mlr_data = {\n",
        "    'Transaction Amount': [100, 200, 150, 300, 50, 400, 250, 350, 75, 500],\n",
        "    'Frequency of transactions': [3, 1, 2, 1, 5, 1, 1, 1, 3, 2],\n",
        "    'Time to Detect Fraud (hours)': [12, 8, 10, 24, 6, 30, 18, 20, 9, 36]\n",
        "}"
      ],
      "metadata": {
        "id": "Wacycz5z_5MH"
      },
      "execution_count": 2,
      "outputs": []
    },
    {
      "cell_type": "code",
      "source": [
        "# Creating a DataFrame for MLR data\n",
        "mlr_df = pd.DataFrame(mlr_data)\n",
        "\n",
        "# Independent variables (X) and dependent variable (y) for MLR\n",
        "X_mlr = mlr_df[['Transaction Amount', 'Frequency of transactions']]\n",
        "y_mlr = mlr_df['Time to Detect Fraud (hours)']\n",
        "\n",
        "# Create multiple linear regression model\n",
        "mlr_model = LinearRegression()\n",
        "\n",
        "# Fit the MLR model with the data\n",
        "mlr_model.fit(X_mlr, y_mlr)\n",
        "\n",
        "# Predicting the Time to Detect Fraud using the MLR model\n",
        "y_mlr_pred = mlr_model.predict(X_mlr)\n",
        "\n",
        "# Calculating R-squared for MLR\n",
        "mlr_r_squared = r2_score(y_mlr, y_mlr_pred)\n",
        "\n",
        "# Calculating Mean Absolute Error (MAE) for MLR\n",
        "mlr_mae = mean_absolute_error(y_mlr, y_mlr_pred)\n",
        "\n",
        "# Print R-squared and MAE for MLR\n",
        "mlr_r_squared, mlr_mae"
      ],
      "metadata": {
        "colab": {
          "base_uri": "https://localhost:8080/"
        },
        "id": "cfGlK5hQAEQr",
        "outputId": "d83754de-9f16-41b7-f6e1-757abd68745d"
      },
      "execution_count": 3,
      "outputs": [
        {
          "output_type": "execute_result",
          "data": {
            "text/plain": [
              "(0.9113365153083454, 2.520501524906811)"
            ]
          },
          "metadata": {},
          "execution_count": 3
        }
      ]
    }
  ]
}